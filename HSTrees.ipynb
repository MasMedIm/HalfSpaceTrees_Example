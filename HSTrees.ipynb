{
 "metadata": {
  "language_info": {
   "codemirror_mode": {
    "name": "ipython",
    "version": 3
   },
   "file_extension": ".py",
   "mimetype": "text/x-python",
   "name": "python",
   "nbconvert_exporter": "python",
   "pygments_lexer": "ipython3",
   "version": "3.6.7-final"
  },
  "orig_nbformat": 2,
  "kernelspec": {
   "name": "python3",
   "display_name": "Python 3.6.7 64-bit",
   "metadata": {
    "interpreter": {
     "hash": "d6198a71c6c37ee9e5d2fe37e2bf403ac05c8b198b255429b1c8684612791070"
    }
   }
  }
 },
 "nbformat": 4,
 "nbformat_minor": 2,
 "cells": [
  {
   "source": [
    "## Half Space Trees implementation using Scikit-multiflow"
   ],
   "cell_type": "markdown",
   "metadata": {}
  },
  {
   "cell_type": "code",
   "execution_count": 6,
   "metadata": {},
   "outputs": [],
   "source": [
    "from skmultiflow.data import DataStream\n",
    "from skmultiflow.evaluation import EvaluatePrequential\n",
    "from skmultiflow.anomaly_detection import HalfSpaceTrees\n",
    "from sklearn import preprocessing\n",
    "import pandas as pd\n",
    "import datetime"
   ]
  },
  {
   "source": [
    "## Setup Half-Space Trees estimator with default params\n",
    "- Reducing the number of estimators could increase the speed of training with no accuracy impact if the dataset is relatively small\n",
    "- Increasing the number of window-size could increase the speed of training\n",
    "- The documentation specifies that a good setting for size_limit is 0.1 * window_size"
   ],
   "cell_type": "markdown",
   "metadata": {}
  },
  {
   "cell_type": "code",
   "execution_count": 7,
   "metadata": {},
   "outputs": [],
   "source": [
    "# Setup Half-Space Trees estimator with default values\n",
    "HSTrees_model = HalfSpaceTrees(n_estimators=25, window_size=250,\n",
    "                               depth=15, size_limit=50, anomaly_threshold=0.5\n",
    "                               )"
   ]
  },
  {
   "source": [
    "## A formating function that can be improved"
   ],
   "cell_type": "markdown",
   "metadata": {}
  },
  {
   "cell_type": "code",
   "execution_count": 8,
   "metadata": {},
   "outputs": [],
   "source": [
    "def format_dataset(dataset):\n",
    "    for col in dataset.columns:\n",
    "        if dataset[col].dtype == 'object':        \n",
    "            le = preprocessing.LabelEncoder()\n",
    "            dataset[col].fillna(\"Null\", inplace=True)\n",
    "            dataset[col] = le.fit_transform(dataset[col])\n",
    "        else:\n",
    "            dataset[col].fillna(0, inplace=True)\n",
    "    return dataset"
   ]
  },
  {
   "source": [
    "## The training + testing phase\n",
    "The chunksize tries to simulate a continuous stream of data and offer a stable memory usage which is not achievable using isolation forest for example.\n"
   ],
   "cell_type": "markdown",
   "metadata": {}
  },
  {
   "cell_type": "code",
   "execution_count": 9,
   "metadata": {
    "tags": []
   },
   "outputs": [
    {
     "output_type": "stream",
     "name": "stdout",
     "text": [
      "0:00:34.494003\nHalf-Space Trees detected 882 anomalies out of 14088 samples\n"
     ]
    }
   ],
   "source": [
    "# Simulating a data stream\n",
    "start = datetime.datetime.now()\n",
    "CHUNK = 10000\n",
    "detected_anomalies = 0\n",
    "n_samples = 0\n",
    "\n",
    "for data in pd.read_csv(\"continuous_factory_process.csv\", chunksize=CHUNK):\n",
    "    data = format_dataset(data)\n",
    "    stream = DataStream(data)\n",
    "    while stream.has_more_samples():\n",
    "        X, y = stream.next_sample()\n",
    "        prediction = HSTrees_model.predict(X)\n",
    "        if prediction[0] == 1:\n",
    "            detected_anomalies += 1\n",
    "        HSTrees_model.partial_fit(X,y)\n",
    "        n_samples += 1\n",
    "end = datetime.datetime.now()\n",
    "print(end - start)\n",
    "print('Half-Space Trees detected {} anomalies out of {} samples'.format(detected_anomalies,n_samples))\n"
   ]
  },
  {
   "cell_type": "code",
   "execution_count": null,
   "metadata": {},
   "outputs": [],
   "source": []
  }
 ]
}